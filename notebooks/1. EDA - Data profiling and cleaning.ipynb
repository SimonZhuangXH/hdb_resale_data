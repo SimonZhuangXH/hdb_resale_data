{
 "cells": [
  {
   "cell_type": "markdown",
   "id": "91c66022",
   "metadata": {},
   "source": [
    "# Motivation"
   ]
  },
  {
   "cell_type": "markdown",
   "id": "3abb8dc1",
   "metadata": {},
   "source": [
    "There are various analysis we can conduct on the same dataset. It is important to set the agenda before looking at the data to ensure we do not get lost along the way.\n",
    "\n",
    "For this analysis, we are interested in understanding the key factors that affects the `resale price`."
   ]
  },
  {
   "cell_type": "markdown",
   "id": "4d8ed337",
   "metadata": {},
   "source": [
    "# Retrieve data"
   ]
  },
  {
   "cell_type": "markdown",
   "id": "e1916500",
   "metadata": {},
   "source": [
    "We retrieve data from Data.gov.sg.\n",
    "\n",
    "We can manually download the data, here we implemented a custom object to download data with a given URL."
   ]
  },
  {
   "cell_type": "code",
   "execution_count": null,
   "id": "5560fc8b",
   "metadata": {
    "ExecuteTime": {
     "end_time": "2021-07-16T17:47:43.523788Z",
     "start_time": "2021-07-16T17:47:42.300156Z"
    }
   },
   "outputs": [],
   "source": [
    "###############\n",
    "# import data #\n",
    "###############\n",
    "import numpy as np  # numeric operations\n",
    "import matplotlib.pyplot as plt  # for plotting\n",
    "import pandas as pd  # dataframe\n",
    "import pickle  # read stored location data\n",
    "\n",
    "import gevent.monkey\n",
    "gevent.monkey.patch_all()\n",
    "\n",
    "from hdb_resale_data import (\n",
    "    # retrive location data\n",
    "    Location,\n",
    "    # custom Data object\n",
    "    Data,\n",
    ")"
   ]
  },
  {
   "cell_type": "code",
   "execution_count": null,
   "id": "971a7c79",
   "metadata": {
    "ExecuteTime": {
     "end_time": "2021-07-16T17:47:59.891663Z",
     "start_time": "2021-07-16T17:47:43.551969Z"
    }
   },
   "outputs": [],
   "source": [
    "url = \"https://data.gov.sg/dataset/7a339d20-3c57-4b11-a695-9348adfd7614/download\"\n",
    "data = Data(url)  # Data takes in a url: string\n",
    "\n",
    "data.download(filename=\"../data/data.zip\")  # Data stores the downloaded object with the given filename\n",
    "data.zip_filename(zip_file=\"../data/data.zip\")  # display the file names we downloaded"
   ]
  },
  {
   "cell_type": "code",
   "execution_count": null,
   "id": "0006fc34",
   "metadata": {
    "ExecuteTime": {
     "end_time": "2021-07-16T17:48:00.119479Z",
     "start_time": "2021-07-16T17:47:59.919464Z"
    }
   },
   "outputs": [],
   "source": [
    "# read the file inside the zip file\n",
    "df = data.read_zip(zip_file=\"../data/data.zip\", \n",
    "                   filename=\"resale-flat-prices-based-on-registration-date-from-jan-2017-onwards.csv\")"
   ]
  },
  {
   "cell_type": "markdown",
   "id": "72e28232",
   "metadata": {},
   "source": [
    "# Data profiling"
   ]
  },
  {
   "cell_type": "markdown",
   "id": "52c832b0",
   "metadata": {},
   "source": [
    "We want to check for the following profiles:\n",
    "\n",
    "1. Missing values\n",
    "2. Data types"
   ]
  },
  {
   "cell_type": "markdown",
   "id": "238e4c8c",
   "metadata": {},
   "source": [
    "We will be keeping a profile of the list of data cleaning steps required before conducting data cleaning."
   ]
  },
  {
   "cell_type": "markdown",
   "id": "3e7aa9b7",
   "metadata": {},
   "source": [
    "## Data preview"
   ]
  },
  {
   "cell_type": "markdown",
   "id": "d8c82a43",
   "metadata": {},
   "source": [
    "Sometimes the easiest way to identify data cleaning steps is to look at the data itself."
   ]
  },
  {
   "cell_type": "code",
   "execution_count": null,
   "id": "bb93e50e",
   "metadata": {
    "ExecuteTime": {
     "end_time": "2021-07-16T17:48:00.206499Z",
     "start_time": "2021-07-16T17:48:00.145580Z"
    }
   },
   "outputs": [],
   "source": [
    "df.info()"
   ]
  },
  {
   "cell_type": "code",
   "execution_count": null,
   "id": "c9dc43a1",
   "metadata": {
    "ExecuteTime": {
     "end_time": "2021-07-16T17:48:00.316847Z",
     "start_time": "2021-07-16T17:48:00.238659Z"
    }
   },
   "outputs": [],
   "source": [
    "df.head()"
   ]
  },
  {
   "cell_type": "markdown",
   "id": "00172810",
   "metadata": {},
   "source": [
    "Observation:\n",
    "\n",
    "1. `month` is coded as object (string) and not datetime\n",
    "2. `remaining_lease` is coded as object (string) and not datetime\n",
    "3. Location data is in string, hard to have any meaningful interpretation\n",
    "4. `storey_range` is in string, hard to have any meaningful interpretation\n",
    "5. `flat_type` is in string, hard to have any meaningful interpretation"
   ]
  },
  {
   "cell_type": "markdown",
   "id": "84791544",
   "metadata": {},
   "source": [
    "Let's fix the issues before proceeding."
   ]
  },
  {
   "cell_type": "code",
   "execution_count": null,
   "id": "1be04467",
   "metadata": {
    "ExecuteTime": {
     "end_time": "2021-07-16T17:48:00.413283Z",
     "start_time": "2021-07-16T17:48:00.345443Z"
    }
   },
   "outputs": [],
   "source": [
    "##########################\n",
    "# fix datetime for month #\n",
    "##########################\n",
    "# problem: month is in yyyy-mm, common datetime format require a day as well\n",
    "# solution: concatenate a string '-01' before converting to datetime\n",
    "# in order to ensure pandas convert our datetime object correctly,\n",
    "# we will explictly input the format\n",
    "df[\"month\"] = pd.to_datetime(df[\"month\"] + \"-01\", format=\"%Y-%m-%d\")"
   ]
  },
  {
   "cell_type": "code",
   "execution_count": null,
   "id": "5b32debe",
   "metadata": {
    "ExecuteTime": {
     "end_time": "2021-07-16T17:48:00.813249Z",
     "start_time": "2021-07-16T17:48:00.440012Z"
    }
   },
   "outputs": [],
   "source": [
    "####################################\n",
    "# fix datetime for remaining_lease #\n",
    "####################################\n",
    "# problem: remaining_lease is in years and month (string), we want a standardised unit\n",
    "# solution: convert remaining_lease to years (year = month/12)\n",
    "# we use Regex to extract out the years and month\n",
    "years = df[\"remaining_lease\"].str.extract(\"(\\d+) years\").astype(\"float\")\n",
    "months = df[\"remaining_lease\"].str.extract(\"years (\\d+) [months]|[month]\").astype(\"float\")"
   ]
  },
  {
   "cell_type": "code",
   "execution_count": null,
   "id": "a89d1473",
   "metadata": {
    "ExecuteTime": {
     "end_time": "2021-07-16T17:48:00.895088Z",
     "start_time": "2021-07-16T17:48:00.839180Z"
    }
   },
   "outputs": [],
   "source": [
    "# we have some missing months, let's make sure those are entries without a month data\n",
    "df.loc[months.isna().values, \"remaining_lease\"].unique()"
   ]
  },
  {
   "cell_type": "code",
   "execution_count": null,
   "id": "5a637338",
   "metadata": {
    "ExecuteTime": {
     "end_time": "2021-07-16T17:48:00.950163Z",
     "start_time": "2021-07-16T17:48:00.922828Z"
    }
   },
   "outputs": [],
   "source": [
    "# fill missing months values with 0\n",
    "months.fillna(0, inplace=True)"
   ]
  },
  {
   "cell_type": "code",
   "execution_count": null,
   "id": "da21fdac",
   "metadata": {
    "ExecuteTime": {
     "end_time": "2021-07-16T17:48:01.005721Z",
     "start_time": "2021-07-16T17:48:00.975872Z"
    }
   },
   "outputs": [],
   "source": [
    "# add a new column with remaining lease in years\n",
    "# and remove the old column\n",
    "df[\"remaining_lease_years\"] = years + months/12"
   ]
  },
  {
   "cell_type": "code",
   "execution_count": null,
   "id": "295b4a56",
   "metadata": {
    "ExecuteTime": {
     "end_time": "2021-07-16T17:48:04.255815Z",
     "start_time": "2021-07-16T17:48:01.032059Z"
    }
   },
   "outputs": [],
   "source": [
    "#####################\n",
    "# fix location data #\n",
    "#####################\n",
    "# problem: location data is in string, it is hard to compare against different locations\n",
    "# solution: retrive geolocation\n",
    "# retriving geolocation is a more challenging task, we illustrate the idea here and\n",
    "# execute it in a seperate script\n",
    "loc = Location()\n",
    "location = df[\"block\"] + \" \" + df[\"street_name\"]\n",
    "links = loc.url1 + location + loc.url2\n",
    "responses = loc.get_response(links.iloc[0])"
   ]
  },
  {
   "cell_type": "code",
   "execution_count": null,
   "id": "a9e28b69",
   "metadata": {
    "ExecuteTime": {
     "end_time": "2021-07-16T17:48:04.383653Z",
     "start_time": "2021-07-16T17:48:04.282979Z"
    }
   },
   "outputs": [],
   "source": [
    "df[\"street_name\"].str.replace(\"ST.\", \"ST\", regex=False)"
   ]
  },
  {
   "cell_type": "code",
   "execution_count": null,
   "id": "8315efcd",
   "metadata": {
    "ExecuteTime": {
     "end_time": "2021-07-16T17:48:04.467487Z",
     "start_time": "2021-07-16T17:48:04.411501Z"
    }
   },
   "outputs": [],
   "source": [
    "# illustrate an example here\n",
    "responses.json()"
   ]
  },
  {
   "cell_type": "markdown",
   "id": "c6761365",
   "metadata": {},
   "source": [
    "We will complete the location request in our data cleaning step as it is time consuming.\n",
    "\n",
    "run `ETL.py` to repeat the data preprocessing steps"
   ]
  },
  {
   "cell_type": "code",
   "execution_count": null,
   "id": "049e8edf",
   "metadata": {
    "ExecuteTime": {
     "end_time": "2021-07-16T17:48:05.396481Z",
     "start_time": "2021-07-16T17:48:04.500393Z"
    }
   },
   "outputs": [],
   "source": [
    "with open(\"../data/response\", \"rb\") as f:\n",
    "    responses = pickle.load(f)"
   ]
  },
  {
   "cell_type": "code",
   "execution_count": null,
   "id": "73f9392a",
   "metadata": {
    "ExecuteTime": {
     "end_time": "2021-07-16T17:48:05.689476Z",
     "start_time": "2021-07-16T17:48:05.488444Z"
    }
   },
   "outputs": [],
   "source": [
    "# we have every row of data\n",
    "len(responses), df.shape"
   ]
  },
  {
   "cell_type": "code",
   "execution_count": null,
   "id": "0693ac31",
   "metadata": {
    "ExecuteTime": {
     "end_time": "2021-07-16T17:48:05.847448Z",
     "start_time": "2021-07-16T17:48:05.787667Z"
    }
   },
   "outputs": [],
   "source": [
    "def get_location(response_obj):\n",
    "    address = []\n",
    "    postal = []\n",
    "    latitude = []\n",
    "    longtitude = []\n",
    "    for content in iter(response_obj):\n",
    "        try:\n",
    "            results = content[\"results\"]\n",
    "            # take only the first result\n",
    "            result = results[0]\n",
    "            address.append(result[\"ADDRESS\"])\n",
    "            postal.append(result[\"POSTAL\"])\n",
    "            latitude.append(result[\"LATITUDE\"])\n",
    "            longtitude.append(result[\"LONGTITUDE\"])\n",
    "        except:\n",
    "            address.append(None)\n",
    "            postal.append(None)\n",
    "            latitude.append(None)\n",
    "            longtitude.append(None)\n",
    "    return address, postal, latitude, longtitude"
   ]
  },
  {
   "cell_type": "code",
   "execution_count": null,
   "id": "23b78e88",
   "metadata": {
    "ExecuteTime": {
     "end_time": "2021-07-16T17:48:06.138667Z",
     "start_time": "2021-07-16T17:48:05.944069Z"
    }
   },
   "outputs": [],
   "source": [
    "address, postal, latitude, longtitude = get_location(responses)"
   ]
  },
  {
   "cell_type": "code",
   "execution_count": null,
   "id": "40bb7371",
   "metadata": {
    "ExecuteTime": {
     "end_time": "2021-07-16T17:48:06.385158Z",
     "start_time": "2021-07-16T17:48:06.230557Z"
    }
   },
   "outputs": [],
   "source": [
    "df[\"address\"] = address\n",
    "df[\"postal\"] = postal\n",
    "df[\"latitude\"] = latitude\n",
    "df[\"longtitude\"] = longtitude"
   ]
  },
  {
   "cell_type": "code",
   "execution_count": null,
   "id": "fcca16c7",
   "metadata": {
    "ExecuteTime": {
     "end_time": "2021-07-16T17:48:06.688388Z",
     "start_time": "2021-07-16T17:48:06.484115Z"
    }
   },
   "outputs": [],
   "source": [
    "# let's check if address are input correctly\n",
    "# we observe that only ST. GEORGE'S is not able to retrive any data\n",
    "# from our detailed analysis, we realise it's because of the full stop (.)\n",
    "# most likely REST API interpret it as a reserved keyword\n",
    "df.loc[df[\"address\"].isna(), \"street_name\"].unique()"
   ]
  },
  {
   "cell_type": "code",
   "execution_count": null,
   "id": "63429799",
   "metadata": {
    "ExecuteTime": {
     "end_time": "2021-07-16T17:48:06.893339Z",
     "start_time": "2021-07-16T17:48:06.785636Z"
    }
   },
   "outputs": [],
   "source": [
    "# corrected ST. to ST\n",
    "edited_subset_links = links[df[\"address\"].isna()].replace(\"ST\\.\", \"ST\", regex=True)"
   ]
  },
  {
   "cell_type": "code",
   "execution_count": null,
   "id": "7f577587",
   "metadata": {
    "ExecuteTime": {
     "end_time": "2021-07-16T17:48:07.092352Z",
     "start_time": "2021-07-16T17:48:06.994815Z"
    }
   },
   "outputs": [],
   "source": [
    "# there could be some network issue resulting in address failed to fetch\n",
    "# we will iterate the replacement for a pre-defined number of tries\n",
    "max_try = 10"
   ]
  },
  {
   "cell_type": "code",
   "execution_count": null,
   "id": "ac066b0a",
   "metadata": {
    "ExecuteTime": {
     "end_time": "2021-07-16T17:49:24.975896Z",
     "start_time": "2021-07-16T17:48:07.188352Z"
    }
   },
   "outputs": [],
   "source": [
    "while df[\"address\"].isna().sum() > 0 and max_try > 0:\n",
    "    print(f\"==========try {max_try}============\")\n",
    "    edited_subset_links = links[df[\"address\"].isna()].replace(\"ST\\.\", \"ST\", regex=True)\n",
    "    subset_response = loc.get_gresponse(edited_subset_links)\n",
    "    subset_address = []\n",
    "    for response in iter(subset_response):\n",
    "        if response:\n",
    "            subset_address.append(response.json())\n",
    "        else:\n",
    "            subset_address.append(None)\n",
    "    subset_address, subset_postal, subset_latitude, subset_longtitude = get_location(subset_address)\n",
    "    df.loc[df[\"address\"].isna(), \"address\"] = subset_address\n",
    "    df.loc[df[\"postal\"].isna(), \"postal\"] = subset_postal\n",
    "    df.loc[df[\"latitude\"].isna(), \"latitude\"] = subset_latitude\n",
    "    df.loc[df[\"longtitude\"].isna(), \"longtitude\"] = subset_longtitude\n",
    "    \n",
    "    max_try -= 1 # decrease try by 1"
   ]
  },
  {
   "cell_type": "code",
   "execution_count": null,
   "id": "426ef0a3",
   "metadata": {
    "ExecuteTime": {
     "end_time": "2021-07-16T17:49:25.475373Z",
     "start_time": "2021-07-16T17:49:25.114484Z"
    }
   },
   "outputs": [],
   "source": [
    "df.loc[df[\"address\"].isna()]"
   ]
  },
  {
   "cell_type": "code",
   "execution_count": null,
   "id": "d9e6505d",
   "metadata": {
    "ExecuteTime": {
     "end_time": "2021-07-16T17:49:26.173168Z",
     "start_time": "2021-07-16T17:49:25.625004Z"
    }
   },
   "outputs": [],
   "source": [
    "####################\n",
    "# fix storey_range #\n",
    "####################\n",
    "# problem: storey_range is in string, it is hard to have meaning comparision\n",
    "# solution: since the storey range is a numeric variable, let's take the first storey\n",
    "df[\"storey_min\"] = df[\"storey_range\"].str.extract(\"(\\d+) TO\")\n",
    "df[\"storey_min\"] = df[\"storey_min\"].astype(\"int\")"
   ]
  },
  {
   "cell_type": "markdown",
   "id": "28976c54",
   "metadata": {},
   "source": [
    "## Data cleaning"
   ]
  },
  {
   "cell_type": "markdown",
   "id": "4876c6ce",
   "metadata": {},
   "source": [
    "As we have illustrated with the Data Preview section, simply by looking at the data and understanding\n",
    "the data provides with us much things to do for data cleaning.\n",
    "\n",
    "Now, let's remove the columns that is no longer needed."
   ]
  },
  {
   "cell_type": "code",
   "execution_count": null,
   "id": "ad0302ad",
   "metadata": {
    "ExecuteTime": {
     "end_time": "2021-07-16T17:49:26.473625Z",
     "start_time": "2021-07-16T17:49:26.303044Z"
    }
   },
   "outputs": [],
   "source": [
    "df.pop(\"storey_range\");\n",
    "df.pop(\"remaining_lease\");"
   ]
  },
  {
   "cell_type": "markdown",
   "id": "21f80887",
   "metadata": {},
   "source": [
    "Now, notice although we have recoded the address but we did not remove the relevant columns.\n",
    "\n",
    "We could technically remove those columns, but I have a feeling it might come in useful in the future.\n",
    "\n",
    "Let's keep the columns for now, but have in mind that those columns are repeated."
   ]
  },
  {
   "cell_type": "code",
   "execution_count": null,
   "id": "9cd2b639",
   "metadata": {
    "ExecuteTime": {
     "end_time": "2021-07-16T17:49:26.892950Z",
     "start_time": "2021-07-16T17:49:26.603677Z"
    }
   },
   "outputs": [],
   "source": [
    "df.columns"
   ]
  },
  {
   "cell_type": "code",
   "execution_count": null,
   "id": "504227f6",
   "metadata": {
    "ExecuteTime": {
     "end_time": "2021-07-16T17:49:27.342685Z",
     "start_time": "2021-07-16T17:49:27.040495Z"
    }
   },
   "outputs": [],
   "source": [
    "df.head()"
   ]
  },
  {
   "cell_type": "code",
   "execution_count": null,
   "id": "1a71ffdf",
   "metadata": {
    "ExecuteTime": {
     "end_time": "2021-07-16T17:49:27.704973Z",
     "start_time": "2021-07-16T17:49:27.489800Z"
    }
   },
   "outputs": [],
   "source": [
    "df.info()"
   ]
  },
  {
   "cell_type": "code",
   "execution_count": null,
   "id": "6d6d894a",
   "metadata": {
    "ExecuteTime": {
     "end_time": "2021-07-16T17:49:28.189615Z",
     "start_time": "2021-07-16T17:49:27.846718Z"
    }
   },
   "outputs": [],
   "source": [
    "df.isna().sum(axis=0)"
   ]
  },
  {
   "cell_type": "code",
   "execution_count": null,
   "id": "0ade1c56",
   "metadata": {
    "ExecuteTime": {
     "end_time": "2021-07-16T17:49:29.747648Z",
     "start_time": "2021-07-16T17:49:28.326230Z"
    }
   },
   "outputs": [],
   "source": [
    "# we will save the data for our exploration next\n",
    "df.to_csv(\"../data/hdb.csv\")"
   ]
  }
 ],
 "metadata": {
  "hide_input": false,
  "kernelspec": {
   "display_name": "Python 3 (ipykernel)",
   "language": "python",
   "name": "python3"
  },
  "language_info": {
   "codemirror_mode": {
    "name": "ipython",
    "version": 3
   },
   "file_extension": ".py",
   "mimetype": "text/x-python",
   "name": "python",
   "nbconvert_exporter": "python",
   "pygments_lexer": "ipython3",
   "version": "3.9.5"
  },
  "latex_envs": {
   "LaTeX_envs_menu_present": true,
   "autoclose": false,
   "autocomplete": true,
   "bibliofile": "biblio.bib",
   "cite_by": "apalike",
   "current_citInitial": 1,
   "eqLabelWithNumbers": true,
   "eqNumInitial": 1,
   "hotkeys": {
    "equation": "Ctrl-E",
    "itemize": "Ctrl-I"
   },
   "labels_anchors": false,
   "latex_user_defs": false,
   "report_style_numbering": false,
   "user_envs_cfg": false
  },
  "toc": {
   "base_numbering": 1,
   "nav_menu": {},
   "number_sections": true,
   "sideBar": true,
   "skip_h1_title": false,
   "title_cell": "Table of Contents",
   "title_sidebar": "Contents",
   "toc_cell": false,
   "toc_position": {},
   "toc_section_display": true,
   "toc_window_display": false
  },
  "varInspector": {
   "cols": {
    "lenName": 16,
    "lenType": 16,
    "lenVar": 40
   },
   "kernels_config": {
    "python": {
     "delete_cmd_postfix": "",
     "delete_cmd_prefix": "del ",
     "library": "var_list.py",
     "varRefreshCmd": "print(var_dic_list())"
    },
    "r": {
     "delete_cmd_postfix": ") ",
     "delete_cmd_prefix": "rm(",
     "library": "var_list.r",
     "varRefreshCmd": "cat(var_dic_list()) "
    }
   },
   "types_to_exclude": [
    "module",
    "function",
    "builtin_function_or_method",
    "instance",
    "_Feature"
   ],
   "window_display": false
  }
 },
 "nbformat": 4,
 "nbformat_minor": 5
}
