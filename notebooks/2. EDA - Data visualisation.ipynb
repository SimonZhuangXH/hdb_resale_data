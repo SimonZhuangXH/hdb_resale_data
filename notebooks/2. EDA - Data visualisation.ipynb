{
 "cells": [
  {
   "cell_type": "markdown",
   "id": "915e777e",
   "metadata": {},
   "source": [
    "# Motivation"
   ]
  },
  {
   "cell_type": "markdown",
   "id": "7260b5c6",
   "metadata": {},
   "source": [
    "In this notebook, we will continue with our EDA after data profiling and data cleaning step.\n",
    "\n",
    "Our main goal remain to investigate the key factors that affect HDB resale price.\n",
    "\n",
    "In particular, we are interested in observing for:\n",
    "\n",
    "1. Distributions of prices\n",
    "2. Outliers of prices"
   ]
  },
  {
   "cell_type": "code",
   "execution_count": null,
   "id": "29be2810",
   "metadata": {
    "ExecuteTime": {
     "end_time": "2021-07-17T08:04:31.327162Z",
     "start_time": "2021-07-17T08:04:30.113598Z"
    }
   },
   "outputs": [],
   "source": [
    "# imports\n",
    "import pandas as pd\n",
    "import matplotlib.pyplot as plt\n",
    "import seaborn as sns\n",
    "import pickle\n",
    "\n",
    "sns.set()"
   ]
  },
  {
   "cell_type": "code",
   "execution_count": null,
   "id": "64af57f5",
   "metadata": {
    "ExecuteTime": {
     "end_time": "2021-07-17T08:04:31.424769Z",
     "start_time": "2021-07-17T08:04:31.329273Z"
    }
   },
   "outputs": [],
   "source": [
    "# we will load the data preprocess previously to save time here\n",
    "with open(\"../data/hdb_final\", \"rb\") as f:\n",
    "    df = pickle.load(f)"
   ]
  },
  {
   "cell_type": "code",
   "execution_count": null,
   "id": "008ec9f6",
   "metadata": {
    "ExecuteTime": {
     "end_time": "2021-07-17T08:04:31.448752Z",
     "start_time": "2021-07-17T08:04:31.427166Z"
    }
   },
   "outputs": [],
   "source": [
    "df.head()"
   ]
  },
  {
   "cell_type": "code",
   "execution_count": null,
   "id": "3fb150ec",
   "metadata": {
    "ExecuteTime": {
     "end_time": "2021-07-17T08:04:31.502609Z",
     "start_time": "2021-07-17T08:04:31.452547Z"
    }
   },
   "outputs": [],
   "source": [
    "# with a steralised object, our data types are preserved\n",
    "df.info()"
   ]
  },
  {
   "cell_type": "markdown",
   "id": "e9276593",
   "metadata": {},
   "source": [
    "# Data visualization"
   ]
  },
  {
   "cell_type": "markdown",
   "id": "ae72715d",
   "metadata": {},
   "source": [
    "## Time series - or not?"
   ]
  },
  {
   "cell_type": "markdown",
   "id": "e7b8520a",
   "metadata": {},
   "source": [
    "We will be investigating if the prices change significantly (trend and seasonality) with time.\n",
    "\n",
    "Having trend and seasonality is an issue as current prices will be a function of past prices. Formally\n",
    "\n",
    "$y_{t+1} = f(X, y_{t})$\n",
    "\n",
    "where $y$ is the resale price and $X$ is time invariant factors such as locations."
   ]
  },
  {
   "cell_type": "markdown",
   "id": "b3a12c26",
   "metadata": {},
   "source": [
    "a clear trend and seasonality is observed, generally the price increases over the years with the following exception\n",
    "\n",
    "1. price decrease from 2018 to 2019\n",
    "2. price spike after 2020\n",
    "\n",
    "Impact on prediction model:\n",
    "\n",
    "1. The general price increase (trend) suggest we have to de-trend before conducting prediction. Similarly for seasonality we have to remove the seasonality before prediction.\n",
    "2. The sudden price changes will affect data stationarity, that is the past data might not be reflective of the present data. We might want to decide which time period is most relevant for our prediction."
   ]
  },
  {
   "cell_type": "code",
   "execution_count": null,
   "id": "d66afe48",
   "metadata": {
    "ExecuteTime": {
     "end_time": "2021-07-17T08:04:33.830720Z",
     "start_time": "2021-07-17T08:04:31.504470Z"
    }
   },
   "outputs": [],
   "source": [
    "fig, ax = plt.subplots()\n",
    "sns.lineplot(data=df, x=\"month\", y=\"resale_price\", ax=ax)\n",
    "plt.title(\"Resale price over time\")\n",
    "plt.xticks(rotation=45-90);"
   ]
  },
  {
   "cell_type": "markdown",
   "id": "7bc00da1",
   "metadata": {},
   "source": [
    "Since we have found out that our data is not a stationary time series, time will be an important factor in all our future analysis."
   ]
  },
  {
   "cell_type": "markdown",
   "id": "2ab033a0",
   "metadata": {},
   "source": [
    "## Before deep diving"
   ]
  },
  {
   "cell_type": "markdown",
   "id": "7dcf479a",
   "metadata": {},
   "source": [
    "It is very easy to get lost in exploratory data analysis. A data with 4 columns will produce 4x3x2x1 = 24 combinations for investigation. Therefore, it is very important to take a step back and understand what are the key features you want to investigate with.\n",
    "\n",
    "We highlight the key features we want to investigate in our EDA, you might want to deep dive in certain area if you have some hypothesis about the data.\n",
    "\n",
    "Before we investigate features, it is very important to understand if there's a data drift (past data is not representative of current data). One easy way to investigate data drift is to look at the `time series data`."
   ]
  },
  {
   "cell_type": "markdown",
   "id": "9d98ac1f",
   "metadata": {},
   "source": [
    "Our main focus for EDA is to prepare for predictive modeling. Therefore, we will investigate the following aspects about each data columns:\n",
    "\n",
    "1. Do we have sufficient coverage for each categories/ range of data?\n",
    "2. Do we need to consider each categories/ range of data in order to predict resale price?"
   ]
  },
  {
   "cell_type": "markdown",
   "id": "3538001f",
   "metadata": {},
   "source": [
    "The two aspects will greatly affect our choice of data features:\n",
    "\n",
    "1. If there is insufficient coverage of data, we have to either cluster similar entities to predict the group price, or perform techniques to take care of the imbalance data (undersampling, oversampling, SMOTE etc)\n",
    "2. If the average sales price is consistent across different categories/ range of data, then there might not even be any needs to include them in the model. Furthermore, understanding distribution for mean price might be useful to determine the clusters."
   ]
  },
  {
   "cell_type": "markdown",
   "id": "0788c3f3",
   "metadata": {},
   "source": [
    "In order to answer the two questions, we will plot the following graphs for each data columns. Note that since in the previous section we know that data is not stationary, we have to expand our investigation to look across time.\n",
    "\n",
    "1. Bar plot showing counts for each categories/ range of data\n",
    "2. Line plot showing counts for each categories/ range of data across time\n",
    "3. Bar plot showing mean sales price for each categories/ range of data\n",
    "4. Line plot showing mean sales price for each categories/ range of data across time"
   ]
  },
  {
   "cell_type": "markdown",
   "id": "e2ca34ba",
   "metadata": {},
   "source": [
    "Since we are certain about our visualization now, let's write some helper function to compute the plots."
   ]
  },
  {
   "cell_type": "code",
   "execution_count": null,
   "id": "c3bf0a1d",
   "metadata": {
    "ExecuteTime": {
     "end_time": "2021-07-17T08:04:33.905434Z",
     "start_time": "2021-07-17T08:04:33.832615Z"
    },
    "code_folding": []
   },
   "outputs": [],
   "source": [
    "def bar_count(col: str, ax = None, legend=\"auto\", data=df.copy()) -> None:\n",
    "    \"\"\"Plots Bar plot showing counts for each categories/ range of data.\"\"\"\n",
    "    if not ax:\n",
    "        # if no axis provided, create one\n",
    "        fig, ax = plt.subplots()\n",
    "    \n",
    "    category_data = True\n",
    "    if data[col].dtype != \"object\":\n",
    "        # check if data is categorical\n",
    "        category_data = False\n",
    "        \n",
    "    if not category_data:\n",
    "        # if data is not categorical, we need to discretise it\n",
    "        data[col] = pd.cut(data[col].values, bins=10)\n",
    "    \n",
    "    data = data[col].value_counts(normalize=False)\n",
    "    \n",
    "    if category_data:\n",
    "        # only sort when it's categorical data\n",
    "        data = data.sort_values()\n",
    "        \n",
    "    data.plot.barh(xlabel=\"total data\", \n",
    "               title=f\"total number of transactions by {col}\",\n",
    "               ax=ax\n",
    "              )\n",
    "    \n",
    "    if not ax:\n",
    "        # if no axis provided, plot\n",
    "        plt.show()\n",
    "        \n",
    "def line_count(col: str, ax = None, legend=\"auto\", data=df.copy()) -> None:\n",
    "    \"\"\"Plots Line plot showing counts for each categories/ range of data across time.\"\"\"\n",
    "    if not ax:\n",
    "        # if no axis provided, create one\n",
    "        fig, ax = plt.subplots()\n",
    "    \n",
    "    category_data = True\n",
    "    if data[col].dtype != \"object\":\n",
    "        # check if data is categorical\n",
    "        category_data = False\n",
    "        \n",
    "    if not category_data:\n",
    "        # if data is not categorical, we need to discretise it\n",
    "        data[col] = pd.cut(data[col].values, bins=10)\n",
    "    \n",
    "    data = data.groupby([\"month\", col], as_index=False)[\"resale_price\"]\\\n",
    "        .count().rename(columns={\"resale_price\":\"count\"})\n",
    "    \n",
    "    if category_data:\n",
    "        # only sort when it's categorical data\n",
    "        data = data.sort_values(by=\"count\")\n",
    "    \n",
    "    sns.lineplot(\n",
    "        data = data,\n",
    "        x = \"month\", y = \"count\", hue=col,\n",
    "        ax=ax, legend=legend\n",
    "    )\n",
    "    \n",
    "    ax.set_title(f\"number of units sold across time by {col}\\nlegend ordered asce by count\")\n",
    "    ax.set_xlabel(\"\")\n",
    "    plt.setp(ax.get_xticklabels(), rotation=45-90, horizontalalignment='right')\n",
    "    \n",
    "    if legend:\n",
    "        ax.legend(loc=1, bbox_to_anchor=(1.5, 1.))\n",
    "    \n",
    "    if not ax:\n",
    "        # if no axis provided, plot\n",
    "        plt.show()\n",
    "        \n",
    "def bar_mean(col: str, ax = None, data=df.copy()) -> None:\n",
    "    \"\"\"Bar plot showing mean sales price for each categories/ range of data.\"\"\"\n",
    "    if not ax:\n",
    "        # if no axis provided, create one\n",
    "        fig, ax = plt.subplots()\n",
    "\n",
    "    category_data = True\n",
    "    if data[col].dtype != \"object\":\n",
    "        # check if data is categorical\n",
    "        category_data = False\n",
    "        \n",
    "    if not category_data:\n",
    "        # if data is not categorical, we need to discretise it\n",
    "        data[col] = pd.cut(data[col].values, bins=10)\n",
    "    \n",
    "    data = data.groupby(col, as_index=True)[\"resale_price\"].mean()\n",
    "    \n",
    "    if category_data:\n",
    "        # only sort when it's categorical data\n",
    "        data = data.sort_values()\n",
    "        \n",
    "    data.plot.barh(xlabel=\"mean price\", \n",
    "               title=f\"mean price by {col}\",\n",
    "               ax=ax)\n",
    "    \n",
    "    if not ax:\n",
    "        # if no axis provided, plot\n",
    "        plt.show()\n",
    "        \n",
    "def line_mean(col: str, ax = None, legend=\"auto\", data=df.copy()) -> None:\n",
    "    \"\"\"Line plot showing mean sales price for each categories/ range of data across time.\"\"\"\n",
    "    if not ax:\n",
    "        # if no axis provided, create one\n",
    "        fig, ax = plt.subplots()\n",
    "    \n",
    "    category_data = True\n",
    "    if data[col].dtype != \"object\":\n",
    "        # check if data is categorical\n",
    "        category_data = False\n",
    "        \n",
    "    if not category_data:\n",
    "        # if data is not categorical, we need to discretise it\n",
    "        data[col] = pd.cut(data[col].values, bins=10)\n",
    "    \n",
    "    data = data.groupby([\"month\", col], as_index=False)[\"resale_price\"]\\\n",
    "        .mean().rename(columns={\"resale_price\":\"mean_resale_price\"})\n",
    "    \n",
    "    if category_data:\n",
    "        # only sort when it's categorical data\n",
    "        data = data.sort_values(by=\"mean_resale_price\")\n",
    "    \n",
    "    sns.lineplot(\n",
    "        data = data,\n",
    "        x = \"month\", y = \"mean_resale_price\", hue=col,\n",
    "        ax=ax, legend=legend\n",
    "    )\n",
    "    \n",
    "    ax.set_title(f\"mean price across time by {col}\\nlegend ordered asce by mean_resale_price\")\n",
    "    ax.set_xlabel(\"\")\n",
    "    plt.setp(ax.get_xticklabels(), rotation=45-90, horizontalalignment='right')\n",
    "    \n",
    "    if legend:\n",
    "        ax.legend(loc=1, bbox_to_anchor=(1.5, 1.))\n",
    "    \n",
    "    if not ax:\n",
    "        # if no axis provided, plot\n",
    "        plt.show()\n",
    "        \n",
    "def plotting(col: str) -> None:\n",
    "    \"\"\"Plots all 4 plots in 1 plot.\"\"\"\n",
    "    fig, [[ax1, ax2], [ax3, ax4]] = plt.subplots(2, 2, figsize=(14, 10), gridspec_kw={\"hspace\": 0.4})\n",
    "    bar_count(col, ax1)\n",
    "    line_count(col, ax2, legend=False)\n",
    "    bar_mean(col, ax3)\n",
    "    line_mean(col, ax4, legend=False)\n",
    "    plt.suptitle(col.upper())\n",
    "    plt.show()"
   ]
  },
  {
   "cell_type": "markdown",
   "id": "96e82b24",
   "metadata": {},
   "source": [
    "## Location"
   ]
  },
  {
   "cell_type": "markdown",
   "id": "334ab3f8",
   "metadata": {},
   "source": [
    "### town"
   ]
  },
  {
   "cell_type": "markdown",
   "id": "05a8309b",
   "metadata": {},
   "source": [
    "Pricing in Singapore are heavily affected by the estates. Some estates (such as Orchard) are known to command higher prices than others.\n",
    "\n",
    "\n",
    "Now, it is clear that\n",
    "1. Some estates have more data than others\n",
    "2. Seasonality in terms of number of units sold\n",
    "3. Very slight trend in terms of number of units sold"
   ]
  },
  {
   "cell_type": "markdown",
   "id": "5a6668af",
   "metadata": {},
   "source": [
    "Impact on prediction\n",
    "\n",
    "1. Some towns have very few transactions, we might not have sufficient data to capture the pattern in those towns.\\\n",
    "We might want to consider using clustering techniques to group those minority town together.\\\n",
    "Unsupervised machine learning could be one way, alternatively, we can cluster town by domain knowledge (e.g. rich estates, older estates etc)\n",
    "\n",
    "2. The number of housing sold seems to correlate with the mean resale price.\\\n",
    "It is possible that when most people do not want to sell their house, the market is bad. Therefore, the price is low. (or most people do not want to buy house at this time, we are not sure demand or supply is the cause for low transactions)\\\n",
    "We might want to consider how could we estimate the total transaction number. One possibility is to include macro-economic factors to take into consideration the economy performance."
   ]
  },
  {
   "cell_type": "code",
   "execution_count": null,
   "id": "ec52aab4",
   "metadata": {
    "ExecuteTime": {
     "end_time": "2021-07-17T08:04:35.963929Z",
     "start_time": "2021-07-17T08:04:33.908028Z"
    }
   },
   "outputs": [],
   "source": [
    "plotting(\"town\")"
   ]
  },
  {
   "cell_type": "markdown",
   "id": "5ac7022c",
   "metadata": {},
   "source": [
    "## flat_type"
   ]
  },
  {
   "cell_type": "markdown",
   "id": "f16c1801",
   "metadata": {},
   "source": [
    "Observation:\n",
    "\n",
    "1. Most of the units sold are 4 room HDB\n",
    "2. However, most expensive HDBs are Multi-Gen\n",
    "\n",
    "Impact on prediction:\n",
    "1. We have very little data on both the most expensive HDB (Multi-gen) and cheapest HDB (1 room),\\\n",
    "again clustering or some other techniques is needed.\n",
    "2. Clearly different flat types will command different prices."
   ]
  },
  {
   "cell_type": "code",
   "execution_count": null,
   "id": "b5e309f0",
   "metadata": {
    "ExecuteTime": {
     "end_time": "2021-07-17T08:04:37.285811Z",
     "start_time": "2021-07-17T08:04:35.965861Z"
    }
   },
   "outputs": [],
   "source": [
    "plotting(\"flat_type\")"
   ]
  },
  {
   "cell_type": "markdown",
   "id": "d1c39ad9",
   "metadata": {},
   "source": [
    "## storey_min"
   ]
  },
  {
   "cell_type": "markdown",
   "id": "9de20a02",
   "metadata": {},
   "source": [
    "Observation:\n",
    "1. Most transactions occur at relatively low level floors. However, we know that most HDBs are under 20 storey height. There might be something special about those units higher than 20 storey.\n",
    "2. Clearly the prices are higher for higher level units\n",
    "\n",
    "Impact on prediction:\n",
    "1. Clearly we have to take into consideration different storey height\n",
    "2. The sparse records for higher storey might require us to cluster those very high units together."
   ]
  },
  {
   "cell_type": "code",
   "execution_count": null,
   "id": "0b8a475d",
   "metadata": {
    "ExecuteTime": {
     "end_time": "2021-07-17T08:04:38.685275Z",
     "start_time": "2021-07-17T08:04:37.287793Z"
    }
   },
   "outputs": [],
   "source": [
    "plotting(\"storey_min\")"
   ]
  },
  {
   "cell_type": "markdown",
   "id": "9b385371",
   "metadata": {},
   "source": [
    "## floor_area_sqm"
   ]
  },
  {
   "cell_type": "markdown",
   "id": "d2d3f0e8",
   "metadata": {},
   "source": [
    "Observation\n",
    "1. Most transaction occurs with small area units\n",
    "2. Most expensive units are with larger area units\n",
    "\n",
    "Impact on prediction\n",
    "1. Sparse data with larger floor area\n",
    "2. Clearly floor area affects sales price"
   ]
  },
  {
   "cell_type": "code",
   "execution_count": null,
   "id": "ec859b81",
   "metadata": {
    "ExecuteTime": {
     "end_time": "2021-07-17T08:04:40.073837Z",
     "start_time": "2021-07-17T08:04:38.690381Z"
    }
   },
   "outputs": [],
   "source": [
    "plotting(\"floor_area_sqm\")"
   ]
  },
  {
   "cell_type": "markdown",
   "id": "d5a10294",
   "metadata": {},
   "source": [
    "## flat_model"
   ]
  },
  {
   "cell_type": "markdown",
   "id": "907d889e",
   "metadata": {},
   "source": [
    "Observation:\n",
    "1. Most data is with some minority unit types\n",
    "2. Most expensive units are not the most commonly seen units\n",
    "\n",
    "Impact on prediction:\n",
    "1. Sparse data with some unit types\n",
    "2. Clearly flat model affect the housing prices"
   ]
  },
  {
   "cell_type": "code",
   "execution_count": null,
   "id": "03eb3e6c",
   "metadata": {
    "ExecuteTime": {
     "end_time": "2021-07-17T08:04:41.739565Z",
     "start_time": "2021-07-17T08:04:40.075458Z"
    }
   },
   "outputs": [],
   "source": [
    "plotting(\"flat_model\")"
   ]
  },
  {
   "cell_type": "markdown",
   "id": "1573db3e",
   "metadata": {},
   "source": [
    "## lease_commence_date"
   ]
  },
  {
   "cell_type": "markdown",
   "id": "7a8df9f7",
   "metadata": {},
   "source": [
    "Observation:\n",
    "1. Most transactions occur between units built in earlier years\n",
    "2. most expensive transactions occurs between units built in later years\n",
    "\n",
    "Impact on prediction\n",
    "1. Slightly more balance data between different built years\n",
    "2. the prices are more balance, but clearly there is still some different between different commence years."
   ]
  },
  {
   "cell_type": "code",
   "execution_count": null,
   "id": "32a399d7",
   "metadata": {
    "ExecuteTime": {
     "end_time": "2021-07-17T08:04:43.238164Z",
     "start_time": "2021-07-17T08:04:41.741784Z"
    }
   },
   "outputs": [],
   "source": [
    "plotting(\"lease_commence_date\")"
   ]
  },
  {
   "cell_type": "markdown",
   "id": "03d97883",
   "metadata": {},
   "source": [
    "## remaining_lease_years"
   ]
  },
  {
   "cell_type": "markdown",
   "id": "f636be2d",
   "metadata": {},
   "source": [
    "Observation:\n",
    "1. Most of the transactions occurs in units with longer lease years\n",
    "2. Most expensive units are also those with longer lease years\n",
    "\n",
    "Impact on prediction:\n",
    "1. Clear difference between different remaining lease years\n",
    "2. Relatively more balance data across different remaining lease years."
   ]
  },
  {
   "cell_type": "code",
   "execution_count": null,
   "id": "755e2ca9",
   "metadata": {
    "ExecuteTime": {
     "end_time": "2021-07-17T08:04:44.653789Z",
     "start_time": "2021-07-17T08:04:43.239831Z"
    }
   },
   "outputs": [],
   "source": [
    "plotting(\"remaining_lease_years\")"
   ]
  },
  {
   "cell_type": "markdown",
   "id": "68efb8b1",
   "metadata": {},
   "source": [
    "# Conclusion"
   ]
  },
  {
   "cell_type": "markdown",
   "id": "8db55c3f",
   "metadata": {},
   "source": [
    "As we have observe from our data visualization, there is a clear difference between sales prices among each columns (lucky for us). Although there are still more data preprocessing required between we can fit a model to our data. Which we will do in the next notebook."
   ]
  }
 ],
 "metadata": {
  "hide_input": false,
  "kernelspec": {
   "display_name": "Python 3 (ipykernel)",
   "language": "python",
   "name": "python3"
  },
  "language_info": {
   "codemirror_mode": {
    "name": "ipython",
    "version": 3
   },
   "file_extension": ".py",
   "mimetype": "text/x-python",
   "name": "python",
   "nbconvert_exporter": "python",
   "pygments_lexer": "ipython3",
   "version": "3.9.5"
  },
  "latex_envs": {
   "LaTeX_envs_menu_present": true,
   "autoclose": false,
   "autocomplete": true,
   "bibliofile": "biblio.bib",
   "cite_by": "apalike",
   "current_citInitial": 1,
   "eqLabelWithNumbers": true,
   "eqNumInitial": 1,
   "hotkeys": {
    "equation": "Ctrl-E",
    "itemize": "Ctrl-I"
   },
   "labels_anchors": false,
   "latex_user_defs": false,
   "report_style_numbering": false,
   "user_envs_cfg": false
  },
  "toc": {
   "base_numbering": 1,
   "nav_menu": {},
   "number_sections": true,
   "sideBar": true,
   "skip_h1_title": false,
   "title_cell": "Table of Contents",
   "title_sidebar": "Contents",
   "toc_cell": false,
   "toc_position": {},
   "toc_section_display": true,
   "toc_window_display": false
  },
  "varInspector": {
   "cols": {
    "lenName": 16,
    "lenType": 16,
    "lenVar": 40
   },
   "kernels_config": {
    "python": {
     "delete_cmd_postfix": "",
     "delete_cmd_prefix": "del ",
     "library": "var_list.py",
     "varRefreshCmd": "print(var_dic_list())"
    },
    "r": {
     "delete_cmd_postfix": ") ",
     "delete_cmd_prefix": "rm(",
     "library": "var_list.r",
     "varRefreshCmd": "cat(var_dic_list()) "
    }
   },
   "types_to_exclude": [
    "module",
    "function",
    "builtin_function_or_method",
    "instance",
    "_Feature"
   ],
   "window_display": false
  }
 },
 "nbformat": 4,
 "nbformat_minor": 5
}
