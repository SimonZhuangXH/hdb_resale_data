{
 "cells": [
  {
   "cell_type": "markdown",
   "id": "91c66022",
   "metadata": {},
   "source": [
    "# Motivation"
   ]
  },
  {
   "cell_type": "markdown",
   "id": "3abb8dc1",
   "metadata": {},
   "source": [
    "There are various analysis we can conduct on the same dataset. It is important to set the agenda before looking at the data to ensure we do not get lost along the way.\n",
    "\n",
    "For this analysis, we are interested in understanding the key factors that affects the `resale price`."
   ]
  },
  {
   "cell_type": "markdown",
   "id": "4d8ed337",
   "metadata": {},
   "source": [
    "# Retrieve data"
   ]
  },
  {
   "cell_type": "markdown",
   "id": "e1916500",
   "metadata": {},
   "source": [
    "We retrieve data from Data.gov.sg.\n",
    "\n",
    "We can manually download the data, here we implemented a custom object to download data with a given URL."
   ]
  },
  {
   "cell_type": "code",
   "execution_count": null,
   "id": "5560fc8b",
   "metadata": {
    "ExecuteTime": {
     "end_time": "2021-07-16T10:18:02.090011Z",
     "start_time": "2021-07-16T10:18:01.056603Z"
    }
   },
   "outputs": [],
   "source": [
    "###############\n",
    "# import data #\n",
    "###############\n",
    "import numpy as np  # numeric operations\n",
    "import matplotlib.pyplot as plt  # for plotting\n",
    "import pandas as pd  # dataframe\n",
    "\n",
    "import gevent.monkey\n",
    "gevent.monkey.patch_all()\n",
    "\n",
    "from hdb_resale_data import (\n",
    "    # retrive location data\n",
    "    Location,\n",
    "    # custom Data object\n",
    "    Data,\n",
    ")"
   ]
  },
  {
   "cell_type": "code",
   "execution_count": null,
   "id": "971a7c79",
   "metadata": {
    "ExecuteTime": {
     "end_time": "2021-07-16T10:18:15.965453Z",
     "start_time": "2021-07-16T10:18:02.121244Z"
    }
   },
   "outputs": [],
   "source": [
    "url = \"https://data.gov.sg/dataset/7a339d20-3c57-4b11-a695-9348adfd7614/download\"\n",
    "data = Data(url)  # Data takes in a url: string\n",
    "\n",
    "data.download(filename=\"../data/data.zip\")  # Data stores the downloaded object with the given filename\n",
    "data.zip_filename(zip_file=\"../data/data.zip\")  # display the file names we downloaded"
   ]
  },
  {
   "cell_type": "code",
   "execution_count": null,
   "id": "0006fc34",
   "metadata": {
    "ExecuteTime": {
     "end_time": "2021-07-16T10:18:16.201259Z",
     "start_time": "2021-07-16T10:18:15.992992Z"
    }
   },
   "outputs": [],
   "source": [
    "# read the file inside the zip file\n",
    "df = data.read_zip(zip_file=\"../data/data.zip\", \n",
    "                   filename=\"resale-flat-prices-based-on-registration-date-from-jan-2017-onwards.csv\")"
   ]
  },
  {
   "cell_type": "markdown",
   "id": "72e28232",
   "metadata": {},
   "source": [
    "# Data profiling"
   ]
  },
  {
   "cell_type": "markdown",
   "id": "52c832b0",
   "metadata": {},
   "source": [
    "We want to check for the following profiles:\n",
    "\n",
    "1. Missing values\n",
    "2. Outliers\n",
    "3. Skewed data"
   ]
  },
  {
   "cell_type": "markdown",
   "id": "238e4c8c",
   "metadata": {},
   "source": [
    "We will be keeping a profile of the list of data cleaning steps required before conducting data cleaning."
   ]
  },
  {
   "cell_type": "markdown",
   "id": "3e7aa9b7",
   "metadata": {},
   "source": [
    "## Data preview"
   ]
  },
  {
   "cell_type": "markdown",
   "id": "d8c82a43",
   "metadata": {},
   "source": [
    "Sometimes the easiest way to identify data cleaning steps is to look at the data itself."
   ]
  },
  {
   "cell_type": "code",
   "execution_count": null,
   "id": "bb93e50e",
   "metadata": {
    "ExecuteTime": {
     "end_time": "2021-07-16T10:18:16.286643Z",
     "start_time": "2021-07-16T10:18:16.226330Z"
    }
   },
   "outputs": [],
   "source": [
    "df.info()"
   ]
  },
  {
   "cell_type": "code",
   "execution_count": null,
   "id": "c9dc43a1",
   "metadata": {
    "ExecuteTime": {
     "end_time": "2021-07-16T10:18:16.389382Z",
     "start_time": "2021-07-16T10:18:16.311517Z"
    }
   },
   "outputs": [],
   "source": [
    "df.head()"
   ]
  },
  {
   "cell_type": "markdown",
   "id": "00172810",
   "metadata": {},
   "source": [
    "Observation:\n",
    "\n",
    "1. `month` is coded as object (string) and not datetime\n",
    "2. `remaining_lease` is coded as object (string) and not datetime\n",
    "3. Location data is in string, hard to have any meaningful interpretation\n",
    "4. `storey_range` is in string, hard to have any meaningful interpretation"
   ]
  },
  {
   "cell_type": "markdown",
   "id": "84791544",
   "metadata": {},
   "source": [
    "Let's fix the issues before proceeding."
   ]
  },
  {
   "cell_type": "code",
   "execution_count": null,
   "id": "1be04467",
   "metadata": {
    "ExecuteTime": {
     "end_time": "2021-07-16T10:18:16.482904Z",
     "start_time": "2021-07-16T10:18:16.416568Z"
    }
   },
   "outputs": [],
   "source": [
    "##########################\n",
    "# fix datetime for month #\n",
    "##########################\n",
    "# problem: month is in yyyy-mm, common datetime format require a day as well\n",
    "# solution: concatenate a string '-01' before converting to datetime\n",
    "# in order to ensure pandas convert our datetime object correctly,\n",
    "# we will explictly input the format\n",
    "df[\"month\"] = pd.to_datetime(df[\"month\"] + \"-01\", format=\"%Y-%m-%d\")"
   ]
  },
  {
   "cell_type": "code",
   "execution_count": null,
   "id": "5b32debe",
   "metadata": {
    "ExecuteTime": {
     "end_time": "2021-07-16T10:18:16.875678Z",
     "start_time": "2021-07-16T10:18:16.508094Z"
    }
   },
   "outputs": [],
   "source": [
    "####################################\n",
    "# fix datetime for remaining_lease #\n",
    "####################################\n",
    "# problem: remaining_lease is in years and month (string), we want a standardised unit\n",
    "# solution: convert remaining_lease to years (year = month/12)\n",
    "# we use Regex to extract out the years and month\n",
    "years = df[\"remaining_lease\"].str.extract(\"(\\d+) years\").astype(\"float\")\n",
    "months = df[\"remaining_lease\"].str.extract(\"years (\\d+) [months]|[month]\").astype(\"float\")"
   ]
  },
  {
   "cell_type": "code",
   "execution_count": null,
   "id": "a89d1473",
   "metadata": {
    "ExecuteTime": {
     "end_time": "2021-07-16T10:18:16.954857Z",
     "start_time": "2021-07-16T10:18:16.900411Z"
    }
   },
   "outputs": [],
   "source": [
    "# we have some missing months, let's make sure those are entries without a month data\n",
    "df.loc[months.isna().values, \"remaining_lease\"].unique()"
   ]
  },
  {
   "cell_type": "code",
   "execution_count": null,
   "id": "da21fdac",
   "metadata": {
    "ExecuteTime": {
     "end_time": "2021-07-16T10:18:17.043598Z",
     "start_time": "2021-07-16T10:18:16.980822Z"
    }
   },
   "outputs": [],
   "source": [
    "# add a new column with remaining lease in years\n",
    "# and remove the old column\n",
    "df[\"remaining_lease_years\"] = years + months/12\n",
    "df.pop(\"remaining_lease\")"
   ]
  },
  {
   "cell_type": "code",
   "execution_count": null,
   "id": "295b4a56",
   "metadata": {
    "ExecuteTime": {
     "end_time": "2021-07-16T10:18:17.103766Z",
     "start_time": "2021-07-16T10:18:17.074465Z"
    }
   },
   "outputs": [],
   "source": [
    "#####################\n",
    "# fix location data #\n",
    "#####################\n",
    "# problem: location data is in string, it is hard to compare against different locations\n",
    "# solution: retrive geolocation\n",
    "# retriving geolocation is a more challenging task, we illustrate the idea here and\n",
    "# execute it in a seperate script\n",
    "loc = Location()\n",
    "location = df[\"block\"] + \" \" + df[\"street_name\"]\n",
    "links = loc.url1 + location + loc.url2\n",
    "responses = loc.get_gresponse(links.iloc[:100].values)"
   ]
  },
  {
   "cell_type": "code",
   "execution_count": null,
   "id": "0a6a5fdf",
   "metadata": {
    "ExecuteTime": {
     "end_time": "2021-07-16T10:22:38.750436Z",
     "start_time": "2021-07-16T10:22:38.683358Z"
    }
   },
   "outputs": [],
   "source": [
    "# total run time will require around 2 hrs\n",
    "# it took around 6 sec to return 100 requests\n",
    "6 / 100 * links.shape[0] / 60 / 60"
   ]
  },
  {
   "cell_type": "code",
   "execution_count": null,
   "id": "c31aa8db",
   "metadata": {
    "ExecuteTime": {
     "end_time": "2021-07-16T10:21:57.925330Z",
     "start_time": "2021-07-16T10:21:57.859063Z"
    },
    "scrolled": false
   },
   "outputs": [],
   "source": [
    "# we show the first 2 result as an illustration\n",
    "list(map(lambda response: loc.json_load(response), responses))[:2]"
   ]
  },
  {
   "cell_type": "markdown",
   "id": "300a8497",
   "metadata": {},
   "source": [
    "We will complete the location request in our data cleaning step as it is time consuming."
   ]
  },
  {
   "cell_type": "code",
   "execution_count": null,
   "id": "e4a0e102",
   "metadata": {
    "ExecuteTime": {
     "end_time": "2021-07-16T10:32:06.572917Z",
     "start_time": "2021-07-16T10:32:06.366834Z"
    }
   },
   "outputs": [],
   "source": [
    "####################\n",
    "# fix storey_range #\n",
    "####################\n",
    "# problem: storey_range is in string, it is hard to have meaning comparision\n",
    "# solution: since the storey range is a numeric variable, let's take the first storey\n",
    "df[\"storey_min\"] = df[\"storey_range\"].str.extract(\"(\\d+) TO\")\n",
    "df[\"storey_min\"] = df[\"storey_min\"].astype(\"int\")\n",
    "df.pop(\"storey_range\")"
   ]
  },
  {
   "cell_type": "markdown",
   "id": "89b50920",
   "metadata": {},
   "source": [
    "## Data cleaning"
   ]
  },
  {
   "cell_type": "markdown",
   "id": "5cd7f84c",
   "metadata": {},
   "source": [
    "We have apply the logic investigated with our data preview "
   ]
  },
  {
   "cell_type": "code",
   "execution_count": null,
   "id": "504227f6",
   "metadata": {
    "ExecuteTime": {
     "end_time": "2021-07-16T10:33:48.770256Z",
     "start_time": "2021-07-16T10:33:48.693148Z"
    }
   },
   "outputs": [],
   "source": [
    "df.head()"
   ]
  },
  {
   "cell_type": "code",
   "execution_count": null,
   "id": "1a71ffdf",
   "metadata": {
    "ExecuteTime": {
     "end_time": "2021-07-16T10:33:51.907491Z",
     "start_time": "2021-07-16T10:33:51.839050Z"
    }
   },
   "outputs": [],
   "source": [
    "df.info()"
   ]
  },
  {
   "cell_type": "code",
   "execution_count": null,
   "id": "0d89004b",
   "metadata": {},
   "outputs": [],
   "source": []
  }
 ],
 "metadata": {
  "hide_input": false,
  "kernelspec": {
   "display_name": "Python 3 (ipykernel)",
   "language": "python",
   "name": "python3"
  },
  "language_info": {
   "codemirror_mode": {
    "name": "ipython",
    "version": 3
   },
   "file_extension": ".py",
   "mimetype": "text/x-python",
   "name": "python",
   "nbconvert_exporter": "python",
   "pygments_lexer": "ipython3",
   "version": "3.9.5"
  },
  "latex_envs": {
   "LaTeX_envs_menu_present": true,
   "autoclose": false,
   "autocomplete": true,
   "bibliofile": "biblio.bib",
   "cite_by": "apalike",
   "current_citInitial": 1,
   "eqLabelWithNumbers": true,
   "eqNumInitial": 1,
   "hotkeys": {
    "equation": "Ctrl-E",
    "itemize": "Ctrl-I"
   },
   "labels_anchors": false,
   "latex_user_defs": false,
   "report_style_numbering": false,
   "user_envs_cfg": false
  },
  "toc": {
   "base_numbering": 1,
   "nav_menu": {},
   "number_sections": true,
   "sideBar": true,
   "skip_h1_title": false,
   "title_cell": "Table of Contents",
   "title_sidebar": "Contents",
   "toc_cell": false,
   "toc_position": {},
   "toc_section_display": true,
   "toc_window_display": false
  },
  "varInspector": {
   "cols": {
    "lenName": 16,
    "lenType": 16,
    "lenVar": 40
   },
   "kernels_config": {
    "python": {
     "delete_cmd_postfix": "",
     "delete_cmd_prefix": "del ",
     "library": "var_list.py",
     "varRefreshCmd": "print(var_dic_list())"
    },
    "r": {
     "delete_cmd_postfix": ") ",
     "delete_cmd_prefix": "rm(",
     "library": "var_list.r",
     "varRefreshCmd": "cat(var_dic_list()) "
    }
   },
   "types_to_exclude": [
    "module",
    "function",
    "builtin_function_or_method",
    "instance",
    "_Feature"
   ],
   "window_display": false
  }
 },
 "nbformat": 4,
 "nbformat_minor": 5
}
